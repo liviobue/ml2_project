{
 "cells": [
  {
   "cell_type": "code",
   "execution_count": 96,
   "metadata": {},
   "outputs": [],
   "source": [
    "import openai\n",
    "import base64\n",
    "import requests\n",
    "import json"
   ]
  },
  {
   "cell_type": "code",
   "execution_count": 97,
   "metadata": {},
   "outputs": [],
   "source": [
    "from keys import API_KEY\n",
    "\n",
    "openai.api_key = API_KEY"
   ]
  },
  {
   "cell_type": "markdown",
   "metadata": {},
   "source": [
    "#### Reusable Code"
   ]
  },
  {
   "cell_type": "code",
   "execution_count": 98,
   "metadata": {},
   "outputs": [],
   "source": [
    "messages = []"
   ]
  },
  {
   "cell_type": "code",
   "execution_count": 99,
   "metadata": {},
   "outputs": [],
   "source": [
    "def _openai() -> str:\n",
    "    response = openai.chat.completions.create(\n",
    "        model=\"gpt-4o\",\n",
    "        messages=messages,\n",
    "        max_tokens=300,\n",
    "    )\n",
    "    return response.choices[0].message.content"
   ]
  },
  {
   "cell_type": "code",
   "execution_count": 100,
   "metadata": {},
   "outputs": [],
   "source": [
    "def request(image_url: str, promt: str) -> str:\n",
    "    messages.append(\n",
    "        {\n",
    "            \"role\": \"user\",\n",
    "            \"content\": [\n",
    "                {\n",
    "                    \"type\": \"text\",\n",
    "                    \"text\": promt\n",
    "                },\n",
    "                {\n",
    "                    \"type\": \"image_url\",\n",
    "                    \"image_url\": {\n",
    "                        \"url\": image_url,\n",
    "                    },\n",
    "                },\n",
    "            ],\n",
    "        }\n",
    "    )\n",
    "    return _openai()"
   ]
  },
  {
   "cell_type": "code",
   "execution_count": 101,
   "metadata": {},
   "outputs": [],
   "source": [
    "def extract(image_url: str) -> str:\n",
    "    promt = \"\"\"\n",
    "        Identify a social situation observable in this picture. \n",
    "        Please respond with a description of the social situation, \n",
    "        the people involved, including their activities and what they\n",
    "        look like. Format your response as a JSON object. Besides \n",
    "        the general descriptions of the social situation, the \n",
    "        resulting JSON object should contain an attribute named\n",
    "        persons containing a list of person object. Make sure a\n",
    "        that every person object not only contains information \n",
    "        about their activity, but also everything observable that \n",
    "        can be used to recognise the same person in another picture.\n",
    "        Your response should not be longer than 250 tokens.\n",
    "    \"\"\"\n",
    "    return request(image_url, promt)"
   ]
  },
  {
   "cell_type": "code",
   "execution_count": 102,
   "metadata": {},
   "outputs": [],
   "source": [
    "def recognize(image_url: str, person_description: str) -> str:\n",
    "    promt = f\"\"\"\n",
    "        Analyse this picture and decide if you can detect a person that corresponds\n",
    "        to the following description: {person_description}. If the person is present, \n",
    "        provide additional details about their activity in this picture.\n",
    "    \"\"\"\n",
    "    return request(image_url, promt)"
   ]
  },
  {
   "cell_type": "code",
   "execution_count": 94,
   "metadata": {},
   "outputs": [],
   "source": [
    "def load_json_and_remove_lines(json_str: str):\n",
    "    if isinstance(json_str, dict):\n",
    "        json_str = json.dumps(json_str)\n",
    "    # Split the string into lines\n",
    "    lines = json_str.splitlines()\n",
    "    \n",
    "    # Remove the first and last line\n",
    "    if lines and \"json\" in lines[0].lower():\n",
    "        # Remove the first and last line\n",
    "        lines = lines[1:-1]\n",
    "    \n",
    "    # Join the remaining lines back into a string\n",
    "    json_data = '\\n'.join(lines)\n",
    "    \n",
    "    # Load the JSON data\n",
    "    json_obj = json.loads(json_data)\n",
    "    \n",
    "    return json_obj"
   ]
  },
  {
   "cell_type": "markdown",
   "metadata": {},
   "source": [
    "#### Application"
   ]
  },
  {
   "cell_type": "code",
   "execution_count": 103,
   "metadata": {},
   "outputs": [
    {
     "name": "stdout",
     "output_type": "stream",
     "text": [
      "The person corresponding to the provided description is present in the picture. Below is a JSON object with additional details about this social situation and the activities of the people involved:\n",
      "\n",
      "```json\n",
      "{\n",
      "  \"socialSituation\": \"A group of friends are interacting and having a conversation outdoors near a chain-link fence. The person on the left is actively showing or explaining something using hand gestures to the other two individuals.\",\n",
      "  \"persons\": [\n",
      "    {\n",
      "      \"activity\": \"Showing or explaining something with hand gestures.\",\n",
      "      \"appearance\": {\n",
      "        \"gender\": \"male\",\n",
      "        \"hair\": \"short, dark, and curly\",\n",
      "        \"facial_hair\": \"beard\",\n",
      "        \"clothing\": \"black and white plaid shirt with long sleeves, jeans\"\n",
      "      }\n",
      "    },\n",
      "    {\n",
      "      \"activity\": \"Listening and smiling.\",\n",
      "      \"appearance\": {\n",
      "        \"gender\": \"female\",\n",
      "        \"hair\": \"long, straight, and dark brown\",\n",
      "        \"clothing\": \"dark sweater with a V shape that combines dark-purple, white, and green.\",\n",
      "        \"expression\": \"smiling with closed eyes\"\n",
      "      }\n",
      "    },\n",
      "    {\n",
      "      \"activity\": \"Engaging in conversation with gestures.\",\n",
      "      \"appearance\": {\n",
      "        \"gender\": \"female\",\n",
      "        \"hair\": \"long, straight, and dark\",\n",
      "        \"clothing\": \"yellow knit sweater, glasses\"\n",
      "      }\n",
      "    }\n",
      "  ]\n",
      "}\n",
      "```\n",
      "\n",
      "In this picture, the social situation involves a casual conversation among\n"
     ]
    }
   ],
   "source": [
    "social_situation = extract(\"https://chunntguet.xyz/pics/eliott-reyna-5KrZ3UoDKC4-unsplash.jpg\")\n",
    "social_situation = load_json_and_remove_lines(social_situation)\n",
    "person_tobe_detected = social_situation[\"persons\"][0]\n",
    "person_tobe_detected = load_json_and_remove_lines(person_tobe_detected)\n",
    "recognition = recognize(\"https://chunntguet.xyz/pics/eliott-reyna-5KrZ3UoDKC4-unsplash.jpg\", person_tobe_detected)\n",
    "print(recognition)"
   ]
  },
  {
   "cell_type": "code",
   "execution_count": 63,
   "metadata": {},
   "outputs": [
    {
     "name": "stdout",
     "output_type": "stream",
     "text": [
      "```json\n",
      "{\n",
      "  \"description\": \"A group of five friends interacting near a fence with a graffiti-covered train in the background. Activities include chatting, standing, and sitting.\",\n",
      "  \"persons\": [\n",
      "    {\n",
      "      \"id\": 1,\n",
      "      \"activity\": \"standing\",\n",
      "      \"description\": \"Young man wearing a light blue denim jacket, white t-shirt, black jeans, and white sneakers. He is leaning against the fence.\"\n",
      "    },\n",
      "    {\n",
      "      \"id\": 2,\n",
      "      \"activity\": \"sitting\",\n",
      "      \"description\": \"Young man wearing a brown jacket, blue jeans, and white sneakers. He is sitting on the curb.\"\n",
      "    },\n",
      "    {\n",
      "      \"id\": 3,\n",
      "      \"activity\": \"standing\",\n",
      "      \"description\": \"Young man wearing a black and white plaid shirt, black jeans, and black sneakers. He is standing with his arms crossed.\"\n",
      "    },\n",
      "    {\n",
      "      \"id\": 4,\n",
      "      \"activity\": \"standing\",\n",
      "      \"description\": \"Young woman wearing a green sweater with a white and pink chevron pattern and blue jeans. She is standing and smiling.\"\n",
      "    },\n",
      "    {\n",
      "      \"id\": 5,\n",
      "      \"activity\": \"standing\",\n",
      "      \"description\": \"Young woman wearing a yellow sweater, blue jeans, and brown boots. She is standing and speaking to the group.\"\n",
      "    }\n",
      "  ]\n",
      "}\n",
      "```\n"
     ]
    }
   ],
   "source": [
    "print(social_situation[1][1])\n"
   ]
  },
  {
   "cell_type": "code",
   "execution_count": 107,
   "metadata": {},
   "outputs": [
    {
     "name": "stdout",
     "output_type": "stream",
     "text": [
      "This image shows a group of five young people gathered near a fence. Four individuals are standing, and one is seated on the ground. Behind the fence, there is a graffiti-covered train. The group appears to be engaged in conversation and seem to be casually dressed.\n"
     ]
    }
   ],
   "source": [
    "import openai\n",
    "from io import BytesIO\n",
    "from PIL import Image\n",
    "import base64\n",
    "\n",
    "# Load the local image file\n",
    "image_path = \"bild1.jpg\"\n",
    "image = Image.open(image_path)\n",
    "\n",
    "# Convert the image to bytes and encode it as base64\n",
    "buffer = BytesIO()\n",
    "image.save(buffer, format=\"JPEG\")\n",
    "image_bytes = buffer.getvalue()\n",
    "image_base64 = base64.b64encode(image_bytes).decode(\"utf-8\")\n",
    "\n",
    "response = openai.chat.completions.create(\n",
    "  model=\"gpt-4o\",\n",
    "  messages=[\n",
    "    {\n",
    "      \"role\": \"user\",\n",
    "      \"content\": [\n",
    "        {\"type\": \"text\", \"text\": \"What’s in this image?\"},\n",
    "        {\n",
    "          \"type\": \"image_url\",\n",
    "          \"image_url\": {\n",
    "            \"url\": f\"data:image/jpeg;base64,{image_base64}\",\n",
    "          },\n",
    "        },\n",
    "      ],\n",
    "    }\n",
    "  ],\n",
    "  max_tokens=200,\n",
    ")\n",
    "\n",
    "print(response.choices[0].message.content)"
   ]
  }
 ],
 "metadata": {
  "kernelspec": {
   "display_name": ".venv",
   "language": "python",
   "name": "python3"
  },
  "language_info": {
   "codemirror_mode": {
    "name": "ipython",
    "version": 3
   },
   "file_extension": ".py",
   "mimetype": "text/x-python",
   "name": "python",
   "nbconvert_exporter": "python",
   "pygments_lexer": "ipython3",
   "version": "3.12.2"
  }
 },
 "nbformat": 4,
 "nbformat_minor": 2
}
